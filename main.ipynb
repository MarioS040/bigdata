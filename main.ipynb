{
 "cells": [
  {
   "cell_type": "code",
   "execution_count": 105,
   "metadata": {},
   "outputs": [],
   "source": [
    "import cv2\n",
    "import os\n",
    "import seaborn as sn\n",
    "import pandas as pd\n",
    "import numpy as np\n",
    "import matplotlib.pyplot as plt\n",
    "import tensorflow as tf\n",
    "from sklearn.model_selection import KFold\n",
    "from tensorflow.keras.layers import Conv2D\n",
    "from tensorflow.keras.layers import MaxPooling2D\n",
    "from tensorflow.keras.utils import to_categorical\n"
   ]
  },
  {
   "cell_type": "code",
   "execution_count": 106,
   "metadata": {},
   "outputs": [],
   "source": [
    "mnist = tf.keras.datasets.mnist\n",
    "(x_train, y_train), (x_test, y_test) = mnist.load_data()#train = 60.000, test = 10.000 Datensätze\n",
    "\n"
   ]
  },
  {
   "cell_type": "code",
   "execution_count": 107,
   "metadata": {},
   "outputs": [],
   "source": [
    "#Normalisierung der Pixel\n",
    "x_train = x_train / 255.0\n",
    "x_test = x_test / 255.0\n",
    "\n"
   ]
  },
  {
   "cell_type": "code",
   "execution_count": 108,
   "metadata": {},
   "outputs": [
    {
     "data": {
      "text/plain": [
       "'\\nimg = cv2.imread(\"5.png\")[:,:,0]\\nimg = np.invert(np.array([img]))\\n\\n\\ndataframe1 = pd.DataFrame(img[0])\\ndataframe1.to_csv(\"nicht-normalisiert.csv\")\\n\\n\\n\\nimg = img / 255.0\\nplt.figure(figsize=(28,28)) \\nsn.heatmap(img[0], annot= True, cmap=\"binary\")\\n\\n\\ndataframe2 = pd.DataFrame(img[0])\\ndataframe2.to_csv(\"normalisiert.csv\")\\n'"
      ]
     },
     "execution_count": 108,
     "metadata": {},
     "output_type": "execute_result"
    }
   ],
   "source": [
    "#Beispiele, für Normalisierung erstellt\n",
    "\"\"\"\n",
    "img = cv2.imread(\"5.png\")[:,:,0]\n",
    "img = np.invert(np.array([img]))\n",
    "\n",
    "\n",
    "dataframe1 = pd.DataFrame(img[0])\n",
    "dataframe1.to_csv(\"nicht-normalisiert.csv\")\n",
    "\n",
    "\n",
    "\n",
    "img = img / 255.0\n",
    "plt.figure(figsize=(28,28)) \n",
    "sn.heatmap(img[0], annot= True, cmap=\"binary\")\n",
    "\n",
    "\n",
    "dataframe2 = pd.DataFrame(img[0])\n",
    "dataframe2.to_csv(\"normalisiert.csv\")\n",
    "\"\"\""
   ]
  },
  {
   "cell_type": "code",
   "execution_count": 180,
   "metadata": {},
   "outputs": [],
   "source": [
    "\n",
    "def Modell_definieren():\n",
    "    model = tf.keras.models.Sequential()\n",
    "    #Convolutional Layer, Pixel nach Conv: 26x26          #width, height, channel (Farbe)\n",
    "    model.add(Conv2D(32, (3, 3), activation='relu', input_shape=(28, 28, 1))) # 32 filters, 3,3 = Kernel Size zeigt die größe des Filters höhe x Breite\n",
    "    #Pooling Layer Pixel nach Maxpooling: 13x13\n",
    "    model.add(MaxPooling2D((2, 2)))\n",
    "    #Flatten Layer nach Flatten = 169 Eingabe in Neuronen\n",
    "    model.add(tf.keras.layers.Flatten())#Matrix als Liste umwandeln\n",
    "    #Hidden Neuron Layer\n",
    "    model.add(tf.keras.layers.Dense(169, activation='relu')) #Rectified Linear Unit activation function.\n",
    "    model.add(tf.keras.layers.Dense(169, activation='relu'))# 169 Neuronen, zwei Neuronen Layer, bei 3 war es schlechter, bei 1 auch schlechter.\n",
    "    #Output Layer\n",
    "    model.add(tf.keras.layers.Dense(10, activation='softmax')) #alle zusammen = 1 jedes neuron hat eine Zahl zwischen 0 und 1, Softmax = Winner takes it all\n",
    "    #andere sind = argmax gibt den Indsex an, der den größten Wert besitzt\n",
    "    #max gibt den größten Wert zurück\n",
    "                                            #Loss Function, Berechnung der Größe des Losses\n",
    "    model.compile(optimizer = 'adam', loss='sparse_categorical_crossentropy', metrics =['accuracy'])\n",
    "    \n",
    "    #model.fit(x_train, y_train, epochs= 9) # 9 Epochen, bei 10 Epochen war eine schelchtere Accuracy, bis 9 ist die Accuracy besser geworden und die Loss weniger\n",
    "    #model.save('handwritten.model')\n",
    "    return model\n",
    "\n"
   ]
  },
  {
   "cell_type": "code",
   "execution_count": 184,
   "metadata": {},
   "outputs": [],
   "source": [
    "\n",
    "#Funktion für die Kreuzvalidierung\n",
    "def Modell_evaluieren(dataX, dataY, n_folds=2):#Anzahl der Kreuzvalidierungen\n",
    "\tscores, histories = list(), list()\n",
    "\t\n",
    "\tkfold = KFold(n_folds, shuffle=True, random_state=1)#Shuffel = Trainigsdaten mischen bevor in Training und Test aufteilen. \n",
    "\t\n",
    "\tfor train_ix, test_ix in kfold.split(dataX):\n",
    "\t\t\n",
    "\t\tmodel = Modell_definieren()\n",
    "\t\t\n",
    "\t\tx_train, y_train, x_test, y_test = dataX[train_ix], dataY[train_ix], dataX[test_ix], dataY[test_ix]\n",
    "\t\t                                                                                               \n",
    "\t\thistory = model.fit(x_train, y_train, epochs=12, batch_size=32, validation_data=(x_test, y_test))#Batch Size, definieren der größe die durch das Neuronale Netz laufen\n",
    "\t\tmodel.save('handwritten.model')\n",
    "\t\t_, acc = model.evaluate(x_test, y_test, verbose=0)\n",
    "\t\tprint('> %.3f' % (acc * 100.0))\n",
    "\t\t\n",
    "\t\tscores.append(acc)\n",
    "\t\thistories.append(history)\n",
    "  \t\t\n",
    "\treturn scores, histories"
   ]
  },
  {
   "cell_type": "code",
   "execution_count": 182,
   "metadata": {},
   "outputs": [],
   "source": [
    "#Plot der diagnostics\n",
    "def Diagnose_zusammenfassen(histories):\n",
    "\tfor i in range(len(histories)):\n",
    "\t\t# plot des losses\n",
    "\t\tplt.subplot(2, 1, 1)\n",
    "\t\tplt.title('Cross Entropy Loss')\n",
    "\t\tplt.plot(histories[i].history['loss'], color='blue', label='train')\n",
    "\t\tplt.plot(histories[i].history['val_loss'], color='orange', label='test')\n",
    "\t\t# Acurracy Ausgeben\n",
    "\t\tplt.subplot(2, 1, 2)\n",
    "\t\tplt.title('Classification Accuracy')\n",
    "\t\tplt.plot(histories[i].history['accuracy'], color='blue', label='train')\n",
    "\t\tplt.plot(histories[i].history['val_accuracy'], color='orange', label='test')\n",
    "\t\tplt.tight_layout(pad=1.5)\n",
    "\tplt.show"
   ]
  },
  {
   "cell_type": "code",
   "execution_count": 196,
   "metadata": {},
   "outputs": [],
   "source": [
    "scores, histories = Modell_evaluieren(x_train, y_train)\n",
    "Diagnose_zusammenfassen(histories)"
   ]
  },
  {
   "cell_type": "code",
   "execution_count": 197,
   "metadata": {},
   "outputs": [
    {
     "name": "stdout",
     "output_type": "stream",
     "text": [
      "313/313 [==============================] - 2s 7ms/step - loss: 0.0864 - accuracy: 0.9828\n"
     ]
    },
    {
     "data": {
      "text/plain": [
       "[0.08644988387823105, 0.9828000068664551]"
      ]
     },
     "execution_count": 197,
     "metadata": {},
     "output_type": "execute_result"
    }
   ],
   "source": [
    "#Durchführen, falls das Model nicht erneuet trainiert werden soll, Lädt das bereits trainierte Modell neu ein\n",
    "model = tf.keras.models.load_model('handwritten.model') # Laden des Models\n",
    "model.evaluate(x_test, y_test)"
   ]
  },
  {
   "cell_type": "code",
   "execution_count": 174,
   "metadata": {},
   "outputs": [],
   "source": [
    "#Erzeugen der Funktion, damit eine PNG mit 28x28 Größe die Zahl predicted werden kann.\n",
    "def Handschrifterkennung(path): \n",
    " img = cv2.imread(path)[:,:,0]#Einlesen, da sonst Dimensionen bei der Prediction einen Fehler werfen\n",
    " img = np.invert(np.array([img]))\n",
    " prediction = model.predict(img)\n",
    " print(\"Neuronen Aktivierung: \", prediction[0])\n",
    " plt.imshow(img[0])\n",
    " plt.show()\n",
    " print(\"Die Vorhersage lautet: \" , np.argmax(prediction))#np.argmax zeigt die Index stelle des Arrays an, die auch in dem Neuronen Array aktiviert ist\n",
    " \n",
    "\n"
   ]
  },
  {
   "cell_type": "code",
   "execution_count": 175,
   "metadata": {},
   "outputs": [
    {
     "name": "stdout",
     "output_type": "stream",
     "text": [
      "313/313 [==============================] - 2s 6ms/step\n",
      "1\n"
     ]
    },
    {
     "data": {
      "image/png": "[encoded data removed]",
      "text/plain": [
       "<Figure size 432x288 with 1 Axes>"
      ]
     },
     "metadata": {
      "needs_background": "light"
     },
     "output_type": "display_data"
    }
   ],
   "source": [
    "#Bild 322 des x_test predicten\n",
    "predictions = model.predict(x_test)\n",
    "print(np.argmax(predictions[350]))\n",
    "plt.imshow(x_test[350])\n",
    "plt.show()\n"
   ]
  },
  {
   "cell_type": "code",
   "execution_count": 194,
   "metadata": {},
   "outputs": [
    {
     "name": "stdout",
     "output_type": "stream",
     "text": [
      "1/1 [==============================] - 0s 26ms/step\n",
      "Neuronen Aktivierung:  [0. 0. 0. 0. 0. 0. 0. 0. 0. 1.]\n"
     ]
    },
    {
     "data": {
      "image/png": "[encoded data removed]",
      "text/plain": [
       "<Figure size 432x288 with 1 Axes>"
      ]
     },
     "metadata": {
      "needs_background": "light"
     },
     "output_type": "display_data"
    },
    {
     "name": "stdout",
     "output_type": "stream",
     "text": [
      "Die Vorhersage lautet:  9\n"
     ]
    }
   ],
   "source": [
    "#9 Richtig vorhergesagt\n",
    "Handschrifterkennung(\"leicht.png\")"
   ]
  },
  {
   "cell_type": "code",
   "execution_count": 195,
   "metadata": {},
   "outputs": [
    {
     "name": "stdout",
     "output_type": "stream",
     "text": [
      "1/1 [==============================] - 0s 25ms/step\n",
      "Neuronen Aktivierung:  [0. 0. 0. 1. 0. 0. 0. 0. 0. 0.]\n"
     ]
    },
    {
     "data": {
      "image/png": "[encoded data removed]",
      "text/plain": [
       "<Figure size 432x288 with 1 Axes>"
      ]
     },
     "metadata": {
      "needs_background": "light"
     },
     "output_type": "display_data"
    },
    {
     "name": "stdout",
     "output_type": "stream",
     "text": [
      "Die Vorhersage lautet:  3\n"
     ]
    }
   ],
   "source": [
    "#9 Falsch vorhergesagt\n",
    "Handschrifterkennung(\"mittel.png\")"
   ]
  },
  {
   "cell_type": "code",
   "execution_count": 198,
   "metadata": {},
   "outputs": [
    {
     "name": "stdout",
     "output_type": "stream",
     "text": [
      "1/1 [==============================] - 0s 75ms/step\n",
      "Neuronen Aktivierung:  [0. 0. 0. 0. 0. 0. 1. 0. 0. 0.]\n"
     ]
    },
    {
     "data": {
      "image/png": "[encoded data removed]",
      "text/plain": [
       "<Figure size 432x288 with 1 Axes>"
      ]
     },
     "metadata": {
      "needs_background": "light"
     },
     "output_type": "display_data"
    },
    {
     "name": "stdout",
     "output_type": "stream",
     "text": [
      "Die Vorhersage lautet:  6\n"
     ]
    }
   ],
   "source": [
    "#live\n",
    "Handschrifterkennung(\"schwer.png\")"
   ]
  },
  {
   "cell_type": "code",
   "execution_count": 179,
   "metadata": {},
   "outputs": [
    {
     "data": {
      "text/plain": [
       "Text(69.0, 0.5, 'Tatsächlicher Wert')"
      ]
     },
     "execution_count": 179,
     "metadata": {},
     "output_type": "execute_result"
    },
    {
     "data": {
      "image/png": "[encoded data removed]",
      "text/plain": [
       "<Figure size 720x504 with 2 Axes>"
      ]
     },
     "metadata": {
      "needs_background": "light"
     },
     "output_type": "display_data"
    }
   ],
   "source": [
    "#Confusionsmatrix erstellen über den x_test Datensatz\n",
    "prediction_labels = [np.argmax(i) for i in predictions]\n",
    "\n",
    "confusionmatrix = tf.math.confusion_matrix(labels=y_test, predictions=prediction_labels)\n",
    "\n",
    "plt.figure(figsize = (10, 7))\n",
    "sn.heatmap(confusionmatrix, annot=True, fmt='d')\n",
    "plt.xlabel('Vorhersage')\n",
    "plt.ylabel('Tatsächlicher Wert')"
   ]
  }
 ],
 "metadata": {
  "kernelspec": {
   "display_name": "Python 3.10.5 64-bit",
   "language": "python",
   "name": "python3"
  },
  "language_info": {
   "codemirror_mode": {
    "name": "ipython",
    "version": 3
   },
   "file_extension": ".py",
   "mimetype": "text/x-python",
   "name": "python",
   "nbconvert_exporter": "python",
   "pygments_lexer": "ipython3",
   "version": "3.10.5"
  },
  "orig_nbformat": 4,
  "vscode": {
   "interpreter": {
    "hash": "d4026d7a36d874e1f6c487603191095e1ef70b08516b0a096b0ced5fbd321bb0"
   }
  }
 },
 "nbformat": 4,
 "nbformat_minor": 2
}
