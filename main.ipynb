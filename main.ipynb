{
 "cells": [
  {
   "cell_type": "code",
   "execution_count": 4,
   "metadata": {},
   "outputs": [],
   "source": [
    "import cv2\n",
    "import os\n",
    "import seaborn as sn\n",
    "import pandas as pd\n",
    "import numpy as np\n",
    "import matplotlib.pyplot as plt\n",
    "import tensorflow as tf\n",
    "from tensorflow.keras.layers import Conv2D\n",
    "from tensorflow.keras.layers import MaxPooling2D\n",
    "from tensorflow.keras.utils import to_categorical\n"
   ]
  },
  {
   "cell_type": "code",
   "execution_count": 34,
   "metadata": {},
   "outputs": [],
   "source": [
    "mnist = tf.keras.datasets.mnist\n",
    "(x_train, y_train), (x_test, y_test) = mnist.load_data()#train = 60.000, test = 10.000 Datensätze\n",
    "\n"
   ]
  },
  {
   "cell_type": "code",
   "execution_count": 35,
   "metadata": {},
   "outputs": [],
   "source": [
    "#Normalisierung der Pixel\n",
    "x_train = x_train / 255.0\n",
    "x_test = x_test / 255.0\n",
    "\n"
   ]
  },
  {
   "cell_type": "code",
   "execution_count": 54,
   "metadata": {},
   "outputs": [
    {
     "data": {
      "text/plain": [
       "'\\nimg = cv2.imread(\"5.png\")[:,:,0]\\nimg = np.invert(np.array([img]))\\n\\n\\ndataframe1 = pd.DataFrame(img[0])\\ndataframe1.to_csv(\"nicht-normalisiert.csv\")\\n\\n\\n\\nimg = img / 255.0\\nplt.figure(figsize=(28,28)) \\nsn.heatmap(img[0], annot= True, cmap=\"binary\")\\n\\n\\ndataframe2 = pd.DataFrame(img[0])\\ndataframe2.to_csv(\"normalisiert.csv\")\\n'"
      ]
     },
     "execution_count": 54,
     "metadata": {},
     "output_type": "execute_result"
    }
   ],
   "source": [
    "#Beispiele, für Normalisierung erstellt\n",
    "\"\"\"\n",
    "img = cv2.imread(\"5.png\")[:,:,0]\n",
    "img = np.invert(np.array([img]))\n",
    "\n",
    "\n",
    "dataframe1 = pd.DataFrame(img[0])\n",
    "dataframe1.to_csv(\"nicht-normalisiert.csv\")\n",
    "\n",
    "\n",
    "\n",
    "img = img / 255.0\n",
    "plt.figure(figsize=(28,28)) \n",
    "sn.heatmap(img[0], annot= True, cmap=\"binary\")\n",
    "\n",
    "\n",
    "dataframe2 = pd.DataFrame(img[0])\n",
    "dataframe2.to_csv(\"normalisiert.csv\")\n",
    "\"\"\""
   ]
  },
  {
   "cell_type": "code",
   "execution_count": 37,
   "metadata": {},
   "outputs": [
    {
     "name": "stdout",
     "output_type": "stream",
     "text": [
      "Epoch 1/9\n",
      "1875/1875 [==============================] - 19s 10ms/step - loss: 0.1481 - accuracy: 0.9542\n",
      "Epoch 2/9\n",
      "1875/1875 [==============================] - 18s 10ms/step - loss: 0.0507 - accuracy: 0.9837\n",
      "Epoch 3/9\n",
      "1875/1875 [==============================] - 18s 10ms/step - loss: 0.0312 - accuracy: 0.9895\n",
      "Epoch 4/9\n",
      "1875/1875 [==============================] - 18s 10ms/step - loss: 0.0213 - accuracy: 0.9927\n",
      "Epoch 5/9\n",
      "1875/1875 [==============================] - 20s 10ms/step - loss: 0.0151 - accuracy: 0.9951\n",
      "Epoch 6/9\n",
      "1875/1875 [==============================] - 21s 11ms/step - loss: 0.0119 - accuracy: 0.9959\n",
      "Epoch 7/9\n",
      "1875/1875 [==============================] - 22s 11ms/step - loss: 0.0089 - accuracy: 0.9970\n",
      "Epoch 8/9\n",
      "1875/1875 [==============================] - 17s 9ms/step - loss: 0.0091 - accuracy: 0.9971\n",
      "Epoch 9/9\n",
      "1875/1875 [==============================] - 19s 10ms/step - loss: 0.0065 - accuracy: 0.9979\n"
     ]
    },
    {
     "name": "stderr",
     "output_type": "stream",
     "text": [
      "WARNING:absl:Found untraced functions such as _jit_compiled_convolution_op while saving (showing 1 of 1). These functions will not be directly callable after loading.\n"
     ]
    },
    {
     "name": "stdout",
     "output_type": "stream",
     "text": [
      "INFO:tensorflow:Assets written to: handwritten.model\\assets\n"
     ]
    },
    {
     "name": "stderr",
     "output_type": "stream",
     "text": [
      "INFO:tensorflow:Assets written to: handwritten.model\\assets\n"
     ]
    }
   ],
   "source": [
    "\n",
    "model = tf.keras.models.Sequential()\n",
    "model.add(Conv2D(32, (3, 3), activation='relu', kernel_initializer='he_uniform', input_shape=(28, 28, 1))) # 32 filters, 3,3 = Kernel Size zeigt die größe des Filters\n",
    "model.add(MaxPooling2D((2, 2)))\n",
    "model.add(tf.keras.layers.Flatten(input_shape=(28, 28)))# - Zahlen auf 0 setzen\n",
    "model.add(tf.keras.layers.Dense(128, activation='relu')) # Rectified Linear Unit activation function.\n",
    "model.add(tf.keras.layers.Dense(128, activation='relu'))# 128 Neuronen, zwei Neuronen Layer, bei 3 war es schlechter, bei 1 auch schlechter. Accuracy mit 3 Layern = 0.9965\n",
    "model.add(tf.keras.layers.Dense(10, activation='softmax')) #alle zusammen = 1 jedes neuron hat eine Zahl zwischen 0 und 1, Softmax = Winner takes ist all\n",
    "#andere sind = argmax gibt den Index an, der den größten Wert besitzt\n",
    "#max gibt den größten Wert zurück\n",
    "\n",
    "model.compile(optimizer = 'adam', loss='sparse_categorical_crossentropy', metrics =['accuracy'])\n",
    "#\n",
    "model.fit(x_train, y_train, epochs= 9) # 9 Epochen, bei 10 Epochen war eine schelchtere Accuracy, bis 9 ist die Accuracy besser geworden und die Loss weniger\n",
    "model.save('handwritten.model')\n",
    "\n"
   ]
  },
  {
   "cell_type": "code",
   "execution_count": 13,
   "metadata": {},
   "outputs": [],
   "source": [
    "#Durchführen, falls das Model nicht erneuet trainiert werden soll, Lädt das bereits trainierte Modell neu ein\n",
    "#model = tf.keras.models.load_model('handwritten.model') # Laden des Models\n",
    "#loss, accuracy = model.evaluate(x_test, y_test)"
   ]
  },
  {
   "cell_type": "code",
   "execution_count": 109,
   "metadata": {},
   "outputs": [],
   "source": [
    "#Erzeugen der Funktion, damit eine PNG mit 28x28 Größe die Zahl predicted werden kann.\n",
    "def predicthandwritten(path): \n",
    " img = cv2.imread(path)[:,:,0]#Einlesen, da sonst Dimensionen bei der Prediction einen Fehler werfen\n",
    " img = np.invert(np.array([img]))\n",
    " prediction = model.predict(img)\n",
    " print(\"Neuronen Aktivierung: \", prediction[0])\n",
    " plt.imshow(img[0])\n",
    " plt.show()\n",
    " print(\"Die Vorhersage lautet: \" , np.argmax(prediction))#np.argmax zeigt die Index stelle des Arrays an, die auch in dem Neuronen Array aktiviert ist\n",
    " \n",
    "\n"
   ]
  },
  {
   "cell_type": "code",
   "execution_count": 39,
   "metadata": {},
   "outputs": [
    {
     "name": "stdout",
     "output_type": "stream",
     "text": [
      "313/313 [==============================] - 1s 3ms/step\n",
      "9\n"
     ]
    },
    {
     "data": {
      "image/png": "[encoded data removed]",
      "text/plain": [
       "<Figure size 432x288 with 1 Axes>"
      ]
     },
     "metadata": {
      "needs_background": "light"
     },
     "output_type": "display_data"
    }
   ],
   "source": [
    "#Bild 322 des x_test predicten\n",
    "predictions = model.predict(x_test)\n",
    "print(np.argmax(predictions[322]))\n",
    "plt.imshow(x_test[322])\n",
    "plt.show()\n"
   ]
  },
  {
   "cell_type": "code",
   "execution_count": 110,
   "metadata": {},
   "outputs": [
    {
     "name": "stdout",
     "output_type": "stream",
     "text": [
      "1/1 [==============================] - 0s 14ms/step\n",
      "Neuronen Aktivierung:  [0. 0. 0. 0. 0. 0. 0. 0. 1. 0.]\n"
     ]
    },
    {
     "data": {
      "image/png": "[encoded data removed]",
      "text/plain": [
       "<Figure size 432x288 with 1 Axes>"
      ]
     },
     "metadata": {
      "needs_background": "light"
     },
     "output_type": "display_data"
    },
    {
     "name": "stdout",
     "output_type": "stream",
     "text": [
      "Die Vorhersage lautet:  8\n"
     ]
    }
   ],
   "source": [
    "#Bild mit dem Namen 7.png vorhersagen\n",
    "predicthandwritten(\"8.png\")"
   ]
  },
  {
   "cell_type": "code",
   "execution_count": 8,
   "metadata": {},
   "outputs": [
    {
     "data": {
      "text/plain": [
       "Text(69.0, 0.5, 'Tatsächlicher Wert')"
      ]
     },
     "execution_count": 8,
     "metadata": {},
     "output_type": "execute_result"
    },
    {
     "data": {
      "image/png": "[encoded data removed]",
      "text/plain": [
       "<Figure size 720x504 with 2 Axes>"
      ]
     },
     "metadata": {
      "needs_background": "light"
     },
     "output_type": "display_data"
    }
   ],
   "source": [
    "#Confusionsmatrix erstellen über den x_test Datensatz\n",
    "prediction_labels = [np.argmax(i) for i in predictions]\n",
    "\n",
    "confusionmatrix = tf.math.confusion_matrix(labels=y_test, predictions=prediction_labels)\n",
    "\n",
    "plt.figure(figsize = (10, 7))\n",
    "sn.heatmap(confusionmatrix, annot=True, fmt='d')\n",
    "plt.xlabel('Vorhersage')\n",
    "plt.ylabel('Tatsächlicher Wert')"
   ]
  }
 ],
 "metadata": {
  "kernelspec": {
   "display_name": "Python 3.10.5 64-bit",
   "language": "python",
   "name": "python3"
  },
  "language_info": {
   "codemirror_mode": {
    "name": "ipython",
    "version": 3
   },
   "file_extension": ".py",
   "mimetype": "text/x-python",
   "name": "python",
   "nbconvert_exporter": "python",
   "pygments_lexer": "ipython3",
   "version": "3.10.5"
  },
  "orig_nbformat": 4,
  "vscode": {
   "interpreter": {
    "hash": "d4026d7a36d874e1f6c487603191095e1ef70b08516b0a096b0ced5fbd321bb0"
   }
  }
 },
 "nbformat": 4,
 "nbformat_minor": 2
}
